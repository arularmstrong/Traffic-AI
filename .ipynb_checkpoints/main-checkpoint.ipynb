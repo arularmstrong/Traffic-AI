{
 "cells": [
  {
   "cell_type": "code",
   "execution_count": null,
   "metadata": {},
   "outputs": [],
   "source": [
    "from fbprophet import Prophet\n",
    "import pandas as pd\n",
    "import numpy as np\n",
    "from stockstats import StockDataFrame as sdf\n",
    "import matplotlib.pyplot as plt\n",
    "from datetime import datetime, timedelta"
   ]
  },
  {
   "cell_type": "code",
   "execution_count": null,
   "metadata": {},
   "outputs": [],
   "source": [
    "dataSet=pd.read_csv('./data/train.csv')\n",
    "dataSet=dataSet.rename(columns={'Date':'ds','Close**':'y'})\n",
    "prophetData=sdf.retype(dataSet)\n",
    "prophet=prophetData.loc[:,['ds','y']]"
   ]
  },
  {
   "cell_type": "code",
   "execution_count": null,
   "metadata": {},
   "outputs": [],
   "source": [
    "model=Prophet(yearly_seasonality=False, daily_seasonality=False)\n",
    "model.fit(prophet)\n",
    "\n",
    "def predictor(currentDate):\n",
    "    dateFormat = \"%Y-%m-%d\"\n",
    "    dateFix = datetime.strptime('2018-08-14', dateFormat)\n",
    "    period = currentDate - dateFix\n",
    "    future = model.make_future_dataframe(periods=period.days)\n",
    "    forecast = model.predict(future)\n",
    "    prediction=forecast[['ds','yhat']].tail()\n",
    "    value=prediction.iloc[4]['yhat']\n",
    "    return value"
   ]
  },
  {
   "cell_type": "code",
   "execution_count": null,
   "metadata": {},
   "outputs": [],
   "source": [
    "initMoney=6350\n",
    "MONEY=initMoney\n",
    "valueList=[]\n",
    "for i in range(7):\n",
    "    value=predictor(datetime.today() + timedelta(days=i))\n",
    "    valueList.append(value)\n",
    "    print(valueList)\n",
    "day=valueList.index(min(valueList))\n",
    "investDate=datetime.today() + timedelta(days=day)\n",
    "print(\"invest on \"+ str(investDate))\n",
    "initMoney=MONEY-min(valueList)\n",
    "print(initMoney)\n",
    "i=1\n",
    "valueList=[]\n",
    "gain=0\n",
    "while True:\n",
    "    value=predictor(investDate + timedelta(days=i))\n",
    "    print(value)\n",
    "    valueList.append(value)\n",
    "    if(value>MONEY):\n",
    "        bounty=max(valueList)\n",
    "        day=valueList.index(max(valueList))\n",
    "        gain+=bounty-MONEY\n",
    "        print(str(gain)+ \" earned\")\n",
    "        initMoney=MONEY\n",
    "        print(\"trade on \"+ str(investDate + timedelta(days=day+1)))\n",
    "    i+=1"
   ]
  },
  {
   "cell_type": "code",
   "execution_count": null,
   "metadata": {},
   "outputs": [],
   "source": []
  }
 ],
 "metadata": {
  "kernelspec": {
   "display_name": "Python 3",
   "language": "python",
   "name": "python3"
  },
  "language_info": {
   "codemirror_mode": {
    "name": "ipython",
    "version": 3
   },
   "file_extension": ".py",
   "mimetype": "text/x-python",
   "name": "python",
   "nbconvert_exporter": "python",
   "pygments_lexer": "ipython3",
   "version": "3.6.5"
  }
 },
 "nbformat": 4,
 "nbformat_minor": 2
}
